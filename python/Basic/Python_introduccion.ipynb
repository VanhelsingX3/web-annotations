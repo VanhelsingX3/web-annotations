{
  "nbformat": 4,
  "nbformat_minor": 0,
  "metadata": {
    "colab": {
      "name": "Untitled0.ipynb",
      "provenance": []
    },
    "kernelspec": {
      "name": "python3",
      "display_name": "Python 3"
    }
  },
  "cells": [
    {
      "cell_type": "markdown",
      "metadata": {
        "id": "ZnUPRscQZlGh"
      },
      "source": [
        "# Python Introducción"
      ]
    },
    {
      "cell_type": "markdown",
      "metadata": {
        "id": "9zFjDOQneCII"
      },
      "source": [
        "## Curso de introducción al lenguaje de programación python\n",
        "\n",
        "### @author: galexbh@protonmail.com"
      ]
    },
    {
      "cell_type": "markdown",
      "metadata": {
        "id": "W-FUMOW0d-GU"
      },
      "source": [
        "Esta declaración no es necesaria en Python 3 ya que UTF-8 es la codificación fuente predeterminada (consulte [PEP 3120](https://www.python.org/dev/peps/pep-3120/)). Además, puede valer la pena verificar que su editor de texto codifique correctamente su código en UTF-8. De lo contrario, puede tener caracteres invisibles que no se interpretan como UTF-8."
      ]
    },
    {
      "cell_type": "code",
      "metadata": {
        "id": "sMrxWU4mZhuB"
      },
      "source": [
        "# -*- coding: utf-8 -*-\n",
        "\"\"\" Se declara en el inicio \"\"\""
      ],
      "execution_count": 2,
      "outputs": []
    },
    {
      "cell_type": "markdown",
      "metadata": {
        "id": "dDWQdf80lht7"
      },
      "source": [
        "### Comentarios"
      ]
    },
    {
      "cell_type": "code",
      "metadata": {
        "id": "o-zNp39rlklQ"
      },
      "source": [
        "# ⭐ Comentario de una linea ⭐\n",
        "\n",
        "\"\"\"\n",
        "   ⭐⭐⭐⭐⭐⭐\n",
        "    Comentario\n",
        "        de\n",
        "     Multiples\n",
        "      Lineas\n",
        "   ⭐⭐⭐⭐⭐⭐\n",
        "\"\"\""
      ],
      "execution_count": null,
      "outputs": []
    },
    {
      "cell_type": "markdown",
      "metadata": {
        "id": "0-IWbt22eNc7"
      },
      "source": [
        "### Operadores aritmeticos"
      ]
    },
    {
      "cell_type": "code",
      "metadata": {
        "colab": {
          "base_uri": "https://localhost:8080/"
        },
        "id": "7oxu3vBcek64",
        "outputId": "9f453256-df0c-43f5-e847-94531f8d4357"
      },
      "source": [
        "# Suma\n",
        "print(\"Suma de 13+89 = \", 13+89, '\\n')\n",
        "\n",
        "# Resta\n",
        "print(\"Resta de 75-41 = \", 75-41, '\\n')\n",
        "\n",
        "# Multiplicación\n",
        "print(\"Multiplicación de 7*8 =\", 7*8, '\\n')\n",
        "\n",
        "# División\n",
        "print(\"Divisón de 10/3 = \",10/3, '\\n')\n",
        "\n",
        "# Modulo\n",
        "print(\"Modulo ó Residuo de la divisón de 10/3 = \", 10%3, '\\n')\n",
        "\n",
        "# Cociente\n",
        "print(\"Cociente de 10/3 = \", 10//3, '\\n')\n",
        "\n",
        "# Potencia\n",
        "print(\"Potencia de 2³ = \", pow(2,3), '\\n')\n",
        "\n",
        "print(\"Forma alternativa 2⁴ = \", 2**4, '\\n')\n",
        "\n",
        "# Raiz\n",
        "print(\"Raiz de 4 = \", 4**(1/2), '\\n')\n",
        "\n",
        "# Valor Absoluto\n",
        "print(\"Valor absoluto de -5 = \", abs(-5), '\\n')\n",
        "\n",
        "# Redondeo\n",
        "print(\"Redondear 4.35 = \", round(4.35), '\\n')"
      ],
      "execution_count": 17,
      "outputs": [
        {
          "output_type": "stream",
          "text": [
            "Suma de 13+89 =  102 \n",
            "\n",
            "Resta de 75-41 =  34 \n",
            "\n",
            "Multiplicación de 7*8 = 56 \n",
            "\n",
            "Divisón de 10/3 =  3.3333333333333335 \n",
            "\n",
            "Modulo ó Residuo de la divisón de 10/3 =  1 \n",
            "\n",
            "Cociente de 10/3 =  3 \n",
            "\n",
            "Potencia de 2³ =  8 \n",
            "\n",
            "Forma alternativa 2⁴ =  16 \n",
            "\n",
            "Raiz de 4 =  2.0 \n",
            "\n",
            "Valor absoluto de -5 =  5 \n",
            "\n",
            "Redondear 4.35 =  4 \n",
            "\n"
          ],
          "name": "stdout"
        }
      ]
    },
    {
      "cell_type": "markdown",
      "metadata": {
        "id": "00pURU8kgEAv"
      },
      "source": [
        "### Impresión por Consola"
      ]
    },
    {
      "cell_type": "code",
      "metadata": {
        "colab": {
          "base_uri": "https://localhost:8080/"
        },
        "id": "aQcTO9SjgEud",
        "outputId": "64d4a57f-d16c-4445-940e-55b566d57226"
      },
      "source": [
        "print(\"De está forma imprimiremos por consola\")\n",
        "\n",
        "print(\"\"\"\n",
        "    De está forma podremos colocar\n",
        "    un mensaje de multiples lineas\n",
        " \"\"\")\n",
        "\n",
        "# También podemos aplicar la multiplicación en las cadenas\n",
        "\n",
        "print(\"-\"*50)\n",
        "\n",
        "print(\"Podemos \",\"concatenar\",\" información\",\" usando la coma (,)\")\n",
        "print(\"También \" + \"con\" + \" signo +\")\n",
        "\n",
        "print(f\"La mejor manera es usando la f de 'Formatted'\")\n",
        "\n",
        "print(\"-\"*50)\n",
        "# caracteres especiales\n",
        "\n",
        "print(\"\\nsalto de linea\")\n",
        "print(\"\\t identación\")"
      ],
      "execution_count": 47,
      "outputs": [
        {
          "output_type": "stream",
          "text": [
            "De está forma imprimiremos por consola\n",
            "\n",
            "    De está forma podremos colocar\n",
            "    un mensaje de multiples lineas\n",
            " \n",
            "--------------------------------------------------\n",
            "Podemos  concatenar  información  usando la coma (,)\n",
            "También con signo +\n",
            "La mejor manera es usando la f de 'Formatted'\n",
            "--------------------------------------------------\n",
            "\n",
            "salto de linea\n",
            "\t identación\n"
          ],
          "name": "stdout"
        }
      ]
    },
    {
      "cell_type": "markdown",
      "metadata": {
        "id": "kB4I66RrnJQa"
      },
      "source": [
        "### Tipo de datos primitivos"
      ]
    },
    {
      "cell_type": "code",
      "metadata": {
        "colab": {
          "base_uri": "https://localhost:8080/"
        },
        "id": "ZMHZUWsanMoA",
        "outputId": "fa41692c-5cad-4dc0-8d27-0e6ac827b44d"
      },
      "source": [
        "# Tipo de dato entero\n",
        "print(type(13))\n",
        "\n",
        "# Tipo de dato punto flotante ó decimal\n",
        "print(type(13.0))\n",
        "\n",
        "# Tipo de dato complejo\n",
        "print(type(1+2j))\n",
        "\n",
        "# Tipo de dato string ó cadena de texto\n",
        "print(type(\"galexbh\"))\n",
        "print(type('0'))\n",
        "\n",
        "# Tipo de dato booleano\n",
        "print(type(True))\n",
        "print(type(False))\n",
        "\n",
        "# Tipo de dato diccionario\n",
        "print(type({}))\n",
        "\n",
        "# Tipo de dato lista\n",
        "\"\"\"\n",
        "En python a diferencia de otros lenguajes carece de arreglos\n",
        "aunque hay una alternativa incluyendo la libreria numpy\n",
        "\"\"\"\n",
        "print(type([]))\n",
        "\n",
        "# Tipo de dato tupla\n",
        "print(type(()))\n",
        "\n",
        "# Ningún tipo\n",
        "print(type(None))"
      ],
      "execution_count": 45,
      "outputs": [
        {
          "output_type": "stream",
          "text": [
            "<class 'int'>\n",
            "<class 'float'>\n",
            "<class 'complex'>\n",
            "<class 'str'>\n",
            "<class 'str'>\n",
            "<class 'bool'>\n",
            "<class 'bool'>\n",
            "<class 'dict'>\n",
            "<class 'list'>\n",
            "<class 'tuple'>\n",
            "<class 'NoneType'>\n"
          ],
          "name": "stdout"
        }
      ]
    },
    {
      "cell_type": "markdown",
      "metadata": {
        "id": "VqnieXaVlLJY"
      },
      "source": [
        "### Varibles"
      ]
    },
    {
      "cell_type": "code",
      "metadata": {
        "colab": {
          "base_uri": "https://localhost:8080/"
        },
        "id": "xgKeuwnolIEM",
        "outputId": "132088d6-fc3c-4ea6-c26d-1e6346d78914"
      },
      "source": [
        "\"\"\"\n",
        "Snake case es la convención que compone las palabras separadas por\n",
        "barra baja (underscore) en vez de espacios y con la \n",
        "primera letra de cada palabra en minúscula.\n",
        "\n",
        "Este tipo de convención se utiliza en nombres de variables y funciones\n",
        "de lenguajes antiguo particularmente asociado con C.\n",
        "Aunque también lenguajes como Ruby y Python lo han adoptado.\n",
        "\"\"\"\n",
        "# Asignación de variable\n",
        "\n",
        "# entero\n",
        "soy_un_int = 13\n",
        "print(f\"entero: {soy_un_int}\")\n",
        "\n",
        "x = soy_un_int\n",
        "print(f\"valor de x: {x}\")\n",
        "\n",
        "# flotante\n",
        "soy_un_float = 13.5\n",
        "print(f\"flotante {soy_un_float}\")\n",
        "\n",
        "# complejo\n",
        "soy_un_complex = 12 +3j\n",
        "print(f\"complejo: {soy_un_complex}\")\n",
        "\n",
        "# cadena\n",
        "soy_un_string = \"hellow world\"\n",
        "print(f\"string: {soy_un_string}\")\n",
        "\n",
        "# booleano\n",
        "soy_un_bool = False\n",
        "print(f\"bool: {soy_un_bool}\")\n",
        "\n",
        "# lista\n",
        "soy_una_list = [1,2,3,\"a\",\"b\",\"c\"]\n",
        "print(f\"lista: {soy_una_list}\")\n",
        "\n",
        "# diccionario\n",
        "soy_un_dict = {\n",
        "    \"name\": \"galex\",\n",
        "    \"age\": 21,\n",
        "    \"things\": [13, \"laptop\", (12,3)]\n",
        "}\n",
        "print(f\"diccionario: {soy_un_dict}\")\n",
        "print(f\"atributo del diccionario: {soy_un_dict['name']}\")\n",
        "\n",
        "# Método alternativo para imprimir variables en consola\n",
        "print(\"atributo del diccionario: %s\"%(soy_un_dict[\"things\"]))"
      ],
      "execution_count": 56,
      "outputs": [
        {
          "output_type": "stream",
          "text": [
            "entero: 13\n",
            "valor de x: 13\n",
            "flotante 13.5\n",
            "complejo: (12+3j)\n",
            "string: hellow world\n",
            "bool: False\n",
            "lista: [1, 2, 3, 'a', 'b', 'c']\n",
            "diccionario: {'name': 'galex', 'age': 21, 'things': [13, 'laptop', (12, 3)]}\n",
            "atributo del diccionario: galex\n",
            "atributo del diccionario: [13, 'laptop', (12, 3)]\n"
          ],
          "name": "stdout"
        }
      ]
    },
    {
      "cell_type": "markdown",
      "metadata": {
        "id": "gnY-UfvZuzZy"
      },
      "source": [
        "### List"
      ]
    },
    {
      "cell_type": "code",
      "metadata": {
        "id": "4bS6ZBOTu25s"
      },
      "source": [
        ""
      ],
      "execution_count": null,
      "outputs": []
    },
    {
      "cell_type": "markdown",
      "metadata": {
        "id": "pC8RpWQvu3Z-"
      },
      "source": [
        "### Tuple"
      ]
    },
    {
      "cell_type": "code",
      "metadata": {
        "id": "ZJNQKOI3u62S"
      },
      "source": [
        ""
      ],
      "execution_count": null,
      "outputs": []
    },
    {
      "cell_type": "markdown",
      "metadata": {
        "id": "_1ha9S7wtLI5"
      },
      "source": [
        "### Set"
      ]
    },
    {
      "cell_type": "code",
      "metadata": {
        "colab": {
          "base_uri": "https://localhost:8080/"
        },
        "id": "rNVlVDzLtOiM",
        "outputId": "555431fc-f6f1-40b0-a372-028373e28d99"
      },
      "source": [
        "\"\"\"\n",
        "    Los conjuntos se utilizan para almacenar varios elementos\n",
        "    en una sola variable. Set es uno de los 4 tipos de datos\n",
        "    integrados en Python que se utilizan para almacenar colecciones\n",
        "    de datos, los otros 3 son List, Tuple y Dictionary, todos con\n",
        "    diferentes calidades y usos.\n",
        "\"\"\"\n",
        "\n",
        "# Crea un conjunto con una serie de elementos entre llaves\n",
        "# Los elementos repetidos se eliminan\n",
        "c = {2, 4, 6, 8, 7, 3, 3}\n",
        "print(c)\n",
        "print(type(c),\"\\n\")\n",
        "\n",
        "# Crea un conjunto a partir de un string\n",
        "# Los caracteres repetidos se eliminan\n",
        "a = set('galex bh')\n",
        "print(a)\n",
        "print(type(a),\"\\n\")\n",
        "\n",
        "# Crea un conjunto a partir de una lista\n",
        "# Los elementos repetidos de la lista se eliminan\n",
        "unicos = set([4, 6, 2, 0, 9])\n",
        "print(unicos)\n",
        "\n",
        "print(type(unicos))"
      ],
      "execution_count": 54,
      "outputs": [
        {
          "output_type": "stream",
          "text": [
            "{2, 3, 4, 6, 7, 8}\n",
            "<class 'set'> \n",
            "\n",
            "{'g', 'x', 'h', ' ', 'l', 'e', 'a', 'b'}\n",
            "<class 'set'> \n",
            "\n",
            "{0, 2, 4, 6, 9}\n",
            "<class 'set'>\n"
          ],
          "name": "stdout"
        }
      ]
    },
    {
      "cell_type": "markdown",
      "metadata": {
        "id": "gvT-fqk8eUWA"
      },
      "source": [
        "### Diccionarios"
      ]
    },
    {
      "cell_type": "code",
      "metadata": {
        "colab": {
          "base_uri": "https://localhost:8080/"
        },
        "id": "5csNQg2seXbs",
        "outputId": "19a5b39e-1686-4cbb-ff06-d89524f9585b"
      },
      "source": [
        "\"\"\" Los diccionarios se utilizan para almacenar\n",
        "    valores de datos en pares clave:valor.\n",
        "    \n",
        "    Un diccionario es una colección desordenada,\n",
        "    modificable y que no permite duplicados.  \"\"\"\n",
        "\n",
        "hashMap = {\n",
        "  \"clave\": \"valor\",\n",
        "  \"numero\": 1,\n",
        "  \"tupla\": (2,3),\n",
        "  \"lista\": [4,5,6],\n",
        "  \"dict\": {\"key\":\"value\"}\n",
        "}\n",
        "print(hashMap)\n"
      ],
      "execution_count": 49,
      "outputs": [
        {
          "output_type": "stream",
          "text": [
            "{'clave': 'valor', 'numero': 1, 'tupla': (2, 3), 'lista': [4, 5, 6], 'dict': {'key': 'value'}}\n"
          ],
          "name": "stdout"
        }
      ]
    }
  ]
}